{
 "cells": [
  {
   "cell_type": "code",
   "execution_count": 5,
   "id": "ef5fd5ee-6695-4418-822c-03ee11a52e69",
   "metadata": {
    "tags": []
   },
   "outputs": [],
   "source": [
    "import requests\n",
    "from bs4 import BeautifulSoup\n",
    "import pandas as pd\n",
    "import csv"
   ]
  },
  {
   "cell_type": "code",
   "execution_count": 6,
   "id": "5dc04779-de03-4b0c-b1c1-d6bf41cdaabe",
   "metadata": {
    "tags": []
   },
   "outputs": [],
   "source": [
    "#Main URL\n",
    "url = 'https://www.flipkart.com/mens-footwear/sports-shoes/pr?sid=osp%2Ccil%2C1cu&otracker=nmenu_sub_Men_0_Sports+Shoes&page=1'"
   ]
  },
  {
   "cell_type": "code",
   "execution_count": 7,
   "id": "184ba072-934c-42ba-9813-7240d62659f4",
   "metadata": {
    "tags": []
   },
   "outputs": [],
   "source": [
    "#function to find the html file\n",
    "def responce(url):\n",
    "    headers={\"accept-language\": \"en-US,en;q=0.9\",\"accept-encoding\": \"gzip, deflate, br\",\"User-Agent\":\"Mozilla/5.0 (Windows NT 10.0; Win64; x64) AppleWebKit/537.36 (KHTML, like Gecko) Chrome/111.0.0.0 Safari/537.36\",\"accept\": \"text/html,application/xhtml+xml,application/xml;q=0.9,image/avif,image/webp,image/apng,*/*;q=0.8,application/signed-exchange;v=b3;q=0.7\"}\n",
    "    responce = requests.get(url, headers = headers) \n",
    "    soup =BeautifulSoup(responce.text, 'lxml')\n",
    "    return(soup)\n",
    "    "
   ]
  },
  {
   "cell_type": "code",
   "execution_count": 23,
   "id": "856bd8c8-e1bd-4d7f-9a02-62ad48dcd8d3",
   "metadata": {
    "tags": []
   },
   "outputs": [],
   "source": [
    "#functions to find the various attributes of the product\n",
    "def company_name(data):\n",
    "    try:\n",
    "     company = data.find('span', class_ = 'mEh187').get_text().split('\\xa0')[0]\n",
    "    except AttributeError:\n",
    "     company = \"Not Found\"\n",
    "    return(company)\n",
    "\n",
    "def product_name(data):\n",
    "    try:\n",
    "     product = data.find('span', class_ = 'VU-ZEz').get_text().split('\\xa0')[0]\n",
    "    except AttributeError:\n",
    "     product = \"Not Found\"\n",
    "    return(product)\n",
    "\n",
    "def final_price(data):\n",
    "    try:\n",
    "        price = data.find('div', class_ = 'Nx9bqj CxhGGd').get_text()[1:]\n",
    "    except AttributeError:\n",
    "        price = \"Not Found\"\n",
    "    return(price)\n",
    "\n",
    "def color(data):\n",
    "    try:\n",
    "        color = data.find('div', class_ = 'col col-9-12 -gXFvC').get_text().strip()\n",
    "    except AttributeError:\n",
    "        color = \"Not Found\"\n",
    "    return(color)\n",
    "    \n",
    "def outer_material(data):\n",
    "    try:\n",
    "        for i in data.find_all('div', class_ = 'col col-9-12 -gXFvC')[1]:\n",
    "            material = i.get_text().strip()\n",
    "    except AttributeError:\n",
    "        material = \"Not Found\"\n",
    "    except IndexError: \n",
    "        material = \"Not Found\"\n",
    "    return(material)\n",
    "    \n",
    "def model(data):\n",
    "    try:\n",
    "        for i in data.find_all('div', class_ = 'col col-9-12 -gXFvC')[2]:\n",
    "            m_odel = i.get_text().strip()\n",
    "    except AttributeError:\n",
    "        m_odel = \"Not Found\"\n",
    "    except IndexError: \n",
    "        m_odel = \"Not Found\"\n",
    "    return(m_odel)\n",
    "\n",
    "def rating(data):\n",
    "    try:\n",
    "        rating = data.find('div', class_ = 'XQDdHH _1Quie7').get_text()\n",
    "    except AttributeError:\n",
    "        rating = 'Rating Not Available'\n",
    "    return(rating)\n",
    "        \n",
    "def no_review(data):\n",
    "    try: \n",
    "        review_no = data.find('span', class_ = 'Wphh3N').get_text().split('reviews')[0].split('and')[1]\n",
    "    except AttributeError:\n",
    "        review_no = 'No rating Found'\n",
    "    return(review_no)\n",
    " \n",
    "def no_rating(data):\n",
    "    try: \n",
    "        rating_no = data.find('span', class_ = 'Wphh3N').get_text().split('ratings')[0]\n",
    "    except AttributeError:\n",
    "        rating_no = 'No rating Found'\n",
    "    return(rating_no)"
   ]
  },
  {
   "cell_type": "code",
   "execution_count": 24,
   "id": "15e98ec3-773c-42f2-b1af-35af0487765c",
   "metadata": {
    "tags": []
   },
   "outputs": [],
   "source": [
    "#function to find the link for the next page of the link\n",
    "def next_page(soup):\n",
    "  try: \n",
    "    links = soup.find_all('a', class_ = '_9QVEpD')\n",
    "    if len(links) != 1:\n",
    "     product_url = 'https://www.flipkart.com'+ soup.find_all('a', class_ = '_9QVEpD')[1]['href']\n",
    "    else:\n",
    "     product_url = 'https://www.flipkart.com'+ soup.find('a', class_ = '_9QVEpD')['href']\n",
    "  except TypeError:\n",
    "    product_url = None\n",
    "  except IndexError:\n",
    "    product_url = None\n",
    "  return(product_url)"
   ]
  },
  {
   "cell_type": "code",
   "execution_count": 27,
   "id": "6a558bc2-2a24-4b52-a64c-d5aaad6da8d2",
   "metadata": {
    "tags": []
   },
   "outputs": [],
   "source": [
    "#main function which will give the desired output\n",
    "def main(url):\n",
    "    main_data = []#it is the final data file\n",
    "    while True:\n",
    "        data = []#it is the temp data file to hold the data during each etration\n",
    "        soup = responce(url)\n",
    "        links = soup.find_all('a', class_ = '+tlBoD')\n",
    "        product_urls = []\n",
    "        for l in links:#the loop to find the links for each of the products\n",
    "                list = 'https://www.flipkart.com'+ str(l.get('href'))\n",
    "                product_urls.append(list)\n",
    "        for p in product_urls:#loop to find the attribute of each of the product\n",
    "                soup2 = responce(p)\n",
    "                info = {\"company\" : company_name(soup2),\n",
    "                        \"product\" : product_name(soup2),\n",
    "                        \"color\": color(soup2),\n",
    "                        \"price\" : final_price(soup2),\n",
    "                        \"material\": outer_material(soup2),\n",
    "                        \"model\" : model(soup2),\n",
    "                        \"Avg_Rating\": rating(soup2),\n",
    "                        \"No. Reviews\": no_review(soup2),\n",
    "                        \"No. Rating\": no_rating(soup2),\n",
    "                        \"link\": p}\n",
    "                data.append(info)\n",
    "        main_data.extend(data)\n",
    "        url = next_page(soup)\n",
    "        if url == None:\n",
    "            break\n",
    "    return(main_data)\n"
   ]
  },
  {
   "cell_type": "code",
   "execution_count": 28,
   "id": "d9dec8a5-feed-4eef-b110-b6ff92035202",
   "metadata": {
    "tags": []
   },
   "outputs": [
    {
     "name": "stdout",
     "output_type": "stream",
     "text": [
      "       company                                            product  \\\n",
      "0     RED TAPE  Athleisure Sports Shoes for Men | Enhanced Dur...   \n",
      "1     RED TAPE  Atheleisure Sports Shoes for Men | Soft Cushio...   \n",
      "2       REEBOK                  SUPER SPEED Walking Shoes For Men   \n",
      "3       ADIDAS                        CriNu Cricket Shoes For Men   \n",
      "4       ADIDAS        X CRAZYFAST CLUB FxG Football Shoes For Men   \n",
      "..         ...                                                ...   \n",
      "995  Not Found                                          Not Found   \n",
      "996     REEBOK                         Run Snazzy Casuals For Men   \n",
      "997     REEBOK              Emergo runner M Running Shoes For Men   \n",
      "998       PUMA            PUMA Turf Slip On Running Shoes For Men   \n",
      "999      asian  Carbon-02 Gray Sports,Gym,Training,Walking,Sty...   \n",
      "\n",
      "            color      price  \\\n",
      "0     Blue, Green      1,539   \n",
      "1           White      1,379   \n",
      "2           Black      1,047   \n",
      "3           White      1,397   \n",
      "4             Red      2,437   \n",
      "..            ...        ...   \n",
      "995     Not Found  Not Found   \n",
      "996          Grey      1,203   \n",
      "997         Black      1,388   \n",
      "998          Blue      1,459   \n",
      "999  Grey, Orange      1,063   \n",
      "\n",
      "                                              material  \\\n",
      "0                                                 Mesh   \n",
      "1                                              Textile   \n",
      "2                                                 Mesh   \n",
      "3                                            Synthetic   \n",
      "4                                   Synthetic, Textile   \n",
      "..                                                 ...   \n",
      "995                                          Not Found   \n",
      "996                                          Synthetic   \n",
      "997                                            Textile   \n",
      "998                                            Textile   \n",
      "999  Soft breathable fabric lining which prevents s...   \n",
      "\n",
      "                                                 model            Avg_Rating  \\\n",
      "0    Athleisure Sports Shoes for Men | Enhanced Dur...                   4.2   \n",
      "1    Atheleisure Sports Shoes for Men | Soft Cushio...                   4.1   \n",
      "2                                          SUPER SPEED                   4.2   \n",
      "3                                                CriNu                   4.3   \n",
      "4                                 X CRAZYFAST CLUB FxG                   4.3   \n",
      "..                                                 ...                   ...   \n",
      "995                                          Not Found  Rating Not Available   \n",
      "996                                         Run Snazzy                     5   \n",
      "997                                    Emergo runner M                   4.3   \n",
      "998                                  PUMA Turf Slip On                   4.3   \n",
      "999                                               Mesh                     4   \n",
      "\n",
      "         No. Reviews       No. Rating  \\\n",
      "0               392            3,998    \n",
      "1               108            1,224    \n",
      "2               890           10,091    \n",
      "3               249            3,266    \n",
      "4                19              133    \n",
      "..               ...              ...   \n",
      "995  No rating Found  No rating Found   \n",
      "996               0                3    \n",
      "997             453            5,307    \n",
      "998              81              929    \n",
      "999             325            3,473    \n",
      "\n",
      "                                                  link  \n",
      "0    https://www.flipkart.com/red-tape-athleisure-s...  \n",
      "1    https://www.flipkart.com/red-tape-atheleisure-...  \n",
      "2    https://www.flipkart.com/reebok-super-speed-wa...  \n",
      "3    https://www.flipkart.com/adidas-crinu-cricket-...  \n",
      "4    https://www.flipkart.com/adidas-x-crazyfast-cl...  \n",
      "..                                                 ...  \n",
      "995  https://www.flipkart.com/adidas-ultraboost-1-0...  \n",
      "996  https://www.flipkart.com/reebok-run-snazzy-cas...  \n",
      "997  https://www.flipkart.com/reebok-emergo-runner-...  \n",
      "998  https://www.flipkart.com/puma-turf-slip-runnin...  \n",
      "999  https://www.flipkart.com/asian-carbon-02-gray-...  \n",
      "\n",
      "[1000 rows x 10 columns]\n"
     ]
    }
   ],
   "source": [
    "#create the data set of the final data\n",
    "shoe_dataSet = pd.DataFrame(main(url))\n",
    "print(shoe_dataSet)"
   ]
  },
  {
   "cell_type": "code",
   "execution_count": 1,
   "id": "a56ec3e7-296a-494a-9f74-59d5bf95ca9d",
   "metadata": {
    "tags": []
   },
   "outputs": [
    {
     "ename": "NameError",
     "evalue": "name 'shoe_dataSet' is not defined",
     "output_type": "error",
     "traceback": [
      "\u001b[1;31m---------------------------------------------------------------------------\u001b[0m",
      "\u001b[1;31mNameError\u001b[0m                                 Traceback (most recent call last)",
      "Cell \u001b[1;32mIn[1], line 2\u001b[0m\n\u001b[0;32m      1\u001b[0m \u001b[38;5;66;03m#exporting the database to csv file\u001b[39;00m\n\u001b[1;32m----> 2\u001b[0m \u001b[43mshoe_dataSet\u001b[49m\u001b[38;5;241m.\u001b[39mto_csv(\u001b[38;5;124m'\u001b[39m\u001b[38;5;124mC:/Users/a s bhati/Downloads/Sports Shoes for Men.csv\u001b[39m\u001b[38;5;124m'\u001b[39m, index \u001b[38;5;241m=\u001b[39m \u001b[38;5;28;01mFalse\u001b[39;00m)\n",
      "\u001b[1;31mNameError\u001b[0m: name 'shoe_dataSet' is not defined"
     ]
    }
   ],
   "source": [
    "#exporting the database to csv file\n",
    "shoe_dataSet.to_csv('C:/Users/a s bhati/Downloads/Sports Shoes for Men.csv', index = False)"
   ]
  }
 ],
 "metadata": {
  "kernelspec": {
   "display_name": "Python 3 (ipykernel)",
   "language": "python",
   "name": "python3"
  },
  "language_info": {
   "codemirror_mode": {
    "name": "ipython",
    "version": 3
   },
   "file_extension": ".py",
   "mimetype": "text/x-python",
   "name": "python",
   "nbconvert_exporter": "python",
   "pygments_lexer": "ipython3",
   "version": "3.11.4"
  }
 },
 "nbformat": 4,
 "nbformat_minor": 5
}
